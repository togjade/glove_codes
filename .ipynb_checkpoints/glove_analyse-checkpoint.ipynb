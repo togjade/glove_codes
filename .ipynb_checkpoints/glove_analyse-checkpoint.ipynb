{
 "cells": [
  {
   "cell_type": "code",
   "execution_count": 53,
   "metadata": {},
   "outputs": [
    {
     "data": {
      "text/plain": [
       "<torch._C.Generator at 0x7efd042c5cd0>"
      ]
     },
     "execution_count": 53,
     "metadata": {},
     "output_type": "execute_result"
    }
   ],
   "source": [
    "import torch\n",
    "import torch.nn.functional as F\n",
    "import numpy as np\n",
    "import pandas as pd\n",
    "from sklearn.model_selection import train_test_split\n",
    "from sklearn.metrics import accuracy_score\n",
    "#from model_arch import *\n",
    "import csv, sys, pdb\n",
    "torch.manual_seed(777)\n"
   ]
  },
  {
   "cell_type": "code",
   "execution_count": 54,
   "metadata": {},
   "outputs": [],
   "source": [
    "data_all_n = \"/home/togzhan/sample/data/data/data_all_n.csv\"\n",
    "df_data_all_n = pd.read_csv(data_all_n, sep = ',', header = None)"
   ]
  },
  {
   "cell_type": "markdown",
   "metadata": {},
   "source": [
    "create binary labels"
   ]
  },
  {
   "cell_type": "code",
   "execution_count": 40,
   "metadata": {},
   "outputs": [],
   "source": [
    "labels = []\n",
    "for i in range(100):\n",
    "    if(i<50):\n",
    "        labels.append(0)\n",
    "    else:\n",
    "        labels.append(1)\n",
    "df_bilabel = pd.DataFrame(labels, index=None)"
   ]
  },
  {
   "cell_type": "markdown",
   "metadata": {},
   "source": [
    "create element-wise labels"
   ]
  },
  {
   "cell_type": "code",
   "execution_count": 41,
   "metadata": {},
   "outputs": [],
   "source": [
    "k = 0\n",
    "labels = []\n",
    "for i in range(100):\n",
    "    if(np.mod(i,5) == 0):\n",
    "        k = k +1\n",
    "    labels.append(k)        \n",
    "df_label = pd.DataFrame(labels, index=None)"
   ]
  },
  {
   "cell_type": "code",
   "execution_count": 43,
   "metadata": {},
   "outputs": [],
   "source": [
    "df_newlabel = df_bilabel.astype(str) + \"_\" + df_label.astype(str)\n"
   ]
  },
  {
   "cell_type": "code",
   "execution_count": 44,
   "metadata": {},
   "outputs": [],
   "source": [
    "df_train, df_eval = train_test_split(df_data_all_n, test_size=1.0/3, random_state=777, stratify=df_newlabel.values)"
   ]
  },
  {
   "cell_type": "code",
   "execution_count": 50,
   "metadata": {},
   "outputs": [
    {
     "data": {
      "text/plain": [
       "<function dir>"
      ]
     },
     "execution_count": 50,
     "metadata": {},
     "output_type": "execute_result"
    }
   ],
   "source": [
    "/home/togzhan/sample/data/data/   /glove/pre_process_code/"
   ]
  },
  {
   "cell_type": "code",
   "execution_count": 59,
   "metadata": {},
   "outputs": [],
   "source": [
    "tmp = df_train.iloc[:,:-2]\n",
    "tmp.to_csv(path_or_buf=\"/home/togzhan/sample/data/data/df_train1.csv\", index=False)\n",
    "tmp = df_eval.iloc[:,:-2]\n",
    "tmp.to_csv(path_or_buf=\"/home/togzhan/sample/data/data/df_eval1.csv\", index=False)"
   ]
  },
  {
   "cell_type": "code",
   "execution_count": null,
   "metadata": {},
   "outputs": [],
   "source": []
  }
 ],
 "metadata": {
  "kernelspec": {
   "display_name": "Python 2",
   "language": "python",
   "name": "python2"
  },
  "language_info": {
   "codemirror_mode": {
    "name": "ipython",
    "version": 2
   },
   "file_extension": ".py",
   "mimetype": "text/x-python",
   "name": "python",
   "nbconvert_exporter": "python",
   "pygments_lexer": "ipython2",
   "version": "2.7.17"
  }
 },
 "nbformat": 4,
 "nbformat_minor": 2
}
