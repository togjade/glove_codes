{
 "cells": [
  {
   "cell_type": "code",
   "execution_count": 2,
   "metadata": {},
   "outputs": [],
   "source": [
    "###### LOAD previously saved and shuffled data .\n",
    "\n",
    "import torch\n",
    "import torch.nn.functional as F\n",
    "import numpy as np\n",
    "import pandas as pd\n",
    "from sklearn.model_selection import train_test_split\n",
    "from sklearn.metrics import accuracy_score\n",
    "#from model_arch import *\n",
    "import csv, sys, pdb\n",
    "from sklearn.ensemble import AdaBoostClassifier\n",
    "from sklearn import metrics\n",
    "from sklearn.tree import DecisionTreeClassifier\n",
    "from sklearn.metrics import confusion_matrix\n",
    "\n",
    "df_train4 = \"/home/togzhan/sample/data/data/df_train4.csv\"\n",
    "df_eval4 = \"/home/togzhan/sample/data/data/df_eval4.csv\"\n",
    "\n",
    "df_train = pd.read_csv(df_train4, sep = ',', header = None)\n",
    "df_eval = pd.read_csv(df_eval4, sep = ',', header = None)\n",
    "\n",
    "train_x\t= torch.FloatTensor(df_train.values[:,:-1].astype('float64'))\n",
    "test_x = torch.FloatTensor(df_eval.values[:,:-1].astype('float64'))\n",
    "\n",
    "train_y = torch.FloatTensor(df_train.values[:,-1].astype('float64'))\n",
    "test_y = torch.FloatTensor(df_eval.values[:,-1].astype('float64'))\n"
   ]
  },
  {
   "cell_type": "code",
   "execution_count": 26,
   "metadata": {},
   "outputs": [
    {
     "name": "stdout",
     "output_type": "stream",
     "text": [
      "('Accuracy:', 0.8571428571428571)\n"
     ]
    }
   ],
   "source": [
    "# Adaboost\n",
    "mx = 2\n",
    "lr = 0.01\n",
    "ns = 150 # 150 - 94% accuracy\n",
    "classifier = AdaBoostClassifier(\n",
    "    DecisionTreeClassifier(max_depth = mx),\n",
    "    n_estimators=ns, learning_rate=lr\n",
    ")\n",
    "classifier.fit(train_x, train_y)\n",
    "\n",
    "predictions = classifier.predict(test_x)\n",
    "\n",
    "confusion_matrix(test_y, predictions)\n",
    "\n",
    "a = metrics.accuracy_score(test_y, predictions)\n",
    "print(\"Accuracy:\", a)\n",
    "if (a >= 90):\n",
    "    a = np.string_(a)\n",
    "    model_path = \"/home/togzhan/sample/data/data/biclass_adaboost\"+str(mx)+\"_max_depth\"+str(ns)+\"_n_estimators\"+a+\"acc\"\n",
    "    torch.save(classifier, model_path)"
   ]
  },
  {
   "cell_type": "code",
   "execution_count": null,
   "metadata": {},
   "outputs": [],
   "source": [
    "from sklearn.svm import SVC\n",
    "from sklearn import metrics\n",
    "svc=SVC(probability=True, kernel=\"sigmoid\")\n",
    "# Adaboost\n",
    "mx = 5\n",
    "ns = 200 # 100 - 94% accuracy\n",
    "lr = 0.6\n",
    "classifier = AdaBoostClassifier(\n",
    "    base_estimator=svc,\n",
    "#     DecisionTreeClassifier(max_depth = mx),\n",
    "    n_estimators=ns,\n",
    "    learning_rate = lr\n",
    ")\n",
    "classifier.fit(train_x, train_y)\n",
    "\n",
    "predictions = classifier.predict(test_x)\n",
    "\n",
    "confusion_matrix(test_y, predictions)\n",
    "\n",
    "a = metrics.accuracy_score(test_y, predictions)\n",
    "print(\"Accuracy:\", a)\n",
    "if (a >= 90):\n",
    "    a = np.string_(a)\n",
    "    model_path = \"/home/togzhan/sample/data/data/biclass_adaboost\"+str(kernel)+\"svc\"+str(ns)+\"_n_estimators\"+a+\"acc\"\n",
    "    torch.save(classifier, model_path)"
   ]
  }
 ],
 "metadata": {
  "kernelspec": {
   "display_name": "Python 2",
   "language": "python",
   "name": "python2"
  },
  "language_info": {
   "codemirror_mode": {
    "name": "ipython",
    "version": 2
   },
   "file_extension": ".py",
   "mimetype": "text/x-python",
   "name": "python",
   "nbconvert_exporter": "python",
   "pygments_lexer": "ipython2",
   "version": "2.7.17"
  }
 },
 "nbformat": 4,
 "nbformat_minor": 2
}
