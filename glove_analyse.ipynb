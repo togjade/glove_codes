{
 "cells": [
  {
   "cell_type": "code",
   "execution_count": null,
   "metadata": {},
   "outputs": [],
   "source": [
    "import torch\n",
    "import torch.nn.functional as F\n",
    "import numpy as np\n",
    "import pandas as pd\n",
    "from sklearn.model_selection import train_test_split\n",
    "from sklearn.metrics import accuracy_score\n",
    "#from model_arch import *\n",
    "import csv, sys, pdb\n",
    "torch.manual_seed(777)\n"
   ]
  },
  {
   "cell_type": "code",
   "execution_count": null,
   "metadata": {},
   "outputs": [],
   "source": [
    "data_all_n = \"/home/togzhan/sample/data/data/data_all_n.csv\"\n",
    "df_data_all_n = pd.read_csv(data_all_n, sep = ',', header = None)"
   ]
  },
  {
   "cell_type": "markdown",
   "metadata": {},
   "source": [
    "%%%create binary labels"
   ]
  },
  {
   "cell_type": "code",
   "execution_count": null,
   "metadata": {},
   "outputs": [],
   "source": [
    "labels = []\n",
    "for i in range(100):\n",
    "    if(i<50):\n",
    "        labels.append(0)\n",
    "    else:\n",
    "        labels.append(1)\n",
    "df_bilabel = pd.DataFrame(labels, index=None)"
   ]
  },
  {
   "cell_type": "markdown",
   "metadata": {},
   "source": [
    "create element-wise labels"
   ]
  },
  {
   "cell_type": "code",
   "execution_count": null,
   "metadata": {},
   "outputs": [],
   "source": [
    "k = 0\n",
    "labels = []\n",
    "for i in range(100):\n",
    "    if(np.mod(i,5) == 0):\n",
    "        k = k +1\n",
    "    labels.append(k)        \n",
    "df_label = pd.DataFrame(labels, index=None)"
   ]
  },
  {
   "cell_type": "code",
   "execution_count": null,
   "metadata": {},
   "outputs": [],
   "source": [
    "df_newlabel = df_bilabel.astype(str) + \"_\" + df_label.astype(str)\n"
   ]
  },
  {
   "cell_type": "code",
   "execution_count": null,
   "metadata": {},
   "outputs": [],
   "source": [
    "df_train, df_eval = train_test_split(df_data_all_n, test_size=1.0/3, random_state=777, stratify=df_newlabel.values)"
   ]
  },
  {
   "cell_type": "code",
   "execution_count": null,
   "metadata": {},
   "outputs": [],
   "source": [
    "df_train"
   ]
  },
  {
   "cell_type": "code",
   "execution_count": null,
   "metadata": {},
   "outputs": [],
   "source": [
    "tmp = df_train.iloc[:,:-2]\n",
    "tmp.to_csv(path_or_buf=\"/home/togzhan/sample/data/data/df_train.csv\", index = false)\n",
    "tmp = df_eval.iloc[:,:-2]\n",
    "tmp.to_csv(path_or_buf=\"/home/togzhan/sample/data/data/df_eval.csv\", index = false)"
   ]
  },
  {
   "cell_type": "markdown",
   "metadata": {},
   "source": [
    "load previously shuffled and separated data "
   ]
  },
  {
   "cell_type": "code",
   "execution_count": null,
   "metadata": {},
   "outputs": [],
   "source": [
    "# Use raw features\n",
    "train_x\t= torch.FloatTensor(df_train.values[:,:-3].astype('float64'))\n",
    "test_x = torch.FloatTensor(df_eval.values[:,:-3].astype('float64'))\n",
    "\n",
    "train_y = torch.FloatTensor(df_train.values[:,-3].astype('float64'))\n",
    "test_y = torch.FloatTensor(df_eval.values[:,-3].astype('float64'))"
   ]
  },
  {
   "cell_type": "code",
   "execution_count": null,
   "metadata": {},
   "outputs": [],
   "source": [
    "dtype = torch.float\n",
    "#device = torch.device(\"cpu\") # Uncomment this to run on CPU\n",
    "if len(sys.argv) > 1:\n",
    "    gpu_id=sys.argv[1]\n",
    "    device = torch.device(\"cuda:\"+gpu_id)\n",
    "else:\n",
    "    device = torch.device(\"cuda:0\")\n",
    "print(device)\n",
    "\n",
    "epochs = 10000\n",
    "N = 16 #batch size\n",
    "D_in = train_x.shape[1]\n",
    "D_out = 1\n",
    "drop = 0.4\n",
    "#FFN Model"
   ]
  }
 ],
 "metadata": {
  "celltoolbar": "Raw Cell Format",
  "kernelspec": {
   "display_name": "Python 2",
   "language": "python",
   "name": "python2"
  },
  "language_info": {
   "codemirror_mode": {
    "name": "ipython",
    "version": 2
   },
   "file_extension": ".py",
   "mimetype": "text/x-python",
   "name": "python",
   "nbconvert_exporter": "python",
   "pygments_lexer": "ipython2",
   "version": "2.7.17"
  }
 },
 "nbformat": 4,
 "nbformat_minor": 2
}
